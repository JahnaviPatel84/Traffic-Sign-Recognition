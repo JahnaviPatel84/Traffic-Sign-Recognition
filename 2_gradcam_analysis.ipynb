{
 "cells": [
  {
   "cell_type": "code",
   "execution_count": 10,
   "id": "de83eb2c-a72f-4614-96d6-d048122ded28",
   "metadata": {},
   "outputs": [],
   "source": [
    "import os\n",
    "import pandas as pd\n",
    "import torch\n",
    "import torch.nn.functional as F\n",
    "import numpy as np\n",
    "import matplotlib.pyplot as plt\n",
    "from torchvision import transforms\n",
    "from PIL import Image\n",
    "import cv2"
   ]
  },
  {
   "cell_type": "code",
   "execution_count": 11,
   "id": "081091cb-ee21-4b78-84dc-257b3984f6d8",
   "metadata": {},
   "outputs": [
    {
     "name": "stdout",
     "output_type": "stream",
     "text": [
      "Using device: cpu\n"
     ]
    }
   ],
   "source": [
    "DEVICE = torch.device(\"cuda\" if torch.cuda.is_available() else \"cpu\")\n",
    "print(\"Using device:\", DEVICE)"
   ]
  },
  {
   "cell_type": "code",
   "execution_count": 12,
   "id": "7a49c638-056f-4049-85c4-a8023abf3404",
   "metadata": {},
   "outputs": [],
   "source": [
    "# Load Meta.csv to get class names\n",
    "meta_df = pd.read_csv(\"data/Meta.csv\")\n",
    "\n",
    "# Create a mapping dictionary\n",
    "CLASS_ID_TO_NAME = dict(zip(meta_df[\"ClassId\"], meta_df[\"Path\"].apply(lambda p: os.path.splitext(os.path.basename(p))[0])))"
   ]
  },
  {
   "cell_type": "code",
   "execution_count": 13,
   "id": "83b7b8c6-236b-4682-af7b-540e358ca968",
   "metadata": {},
   "outputs": [],
   "source": [
    "CLASS_ID_TO_NAME = {\n",
    "    0: \"Speed limit 20\",\n",
    "    1: \"Speed limit 30\",\n",
    "    2: \"Speed limit 50\",\n",
    "    3: \"Speed limit 60\",\n",
    "    4: \"Speed limit 70\",\n",
    "    5: \"Speed limit 80\",\n",
    "    6: \"End of speed limit 80\",\n",
    "    7: \"Speed limit 100\",\n",
    "    8: \"Speed limit 120\",\n",
    "    9: \"No passing\",\n",
    "    10: \"No passing for vehicles > 3.5t\",\n",
    "    11: \"Right-of-way at intersection\",\n",
    "    12: \"Priority road\",\n",
    "    13: \"Yield\",\n",
    "    14: \"Stop\",\n",
    "    15: \"No vehicles\",\n",
    "    16: \"No vehicles > 3.5t\",\n",
    "    17: \"No entry\",\n",
    "    18: \"General caution\",\n",
    "    19: \"Dangerous curve left\",\n",
    "    20: \"Dangerous curve right\",\n",
    "    21: \"Double curve\",\n",
    "    22: \"Bumpy road\",\n",
    "    23: \"Slippery road\",\n",
    "    24: \"Road narrows on the right\",\n",
    "    25: \"Road work\",\n",
    "    26: \"Traffic signals\",\n",
    "    27: \"Pedestrians\",\n",
    "    28: \"Children crossing\",\n",
    "    29: \"Bicycles crossing\",\n",
    "    30: \"Beware of ice/snow\",\n",
    "    31: \"Wild animals crossing\",\n",
    "    32: \"End of all restrictions\",\n",
    "    33: \"Turn right ahead\",\n",
    "    34: \"Turn left ahead\",\n",
    "    35: \"Go straight\",\n",
    "    36: \"Go straight or right\",\n",
    "    37: \"Go straight or left\",\n",
    "    38: \"Keep right\",\n",
    "    39: \"Keep left\",\n",
    "    40: \"Roundabout\",\n",
    "    41: \"End of no passing\",\n",
    "    42: \"End of no passing > 3.5t\"\n",
    "}"
   ]
  },
  {
   "cell_type": "code",
   "execution_count": 14,
   "id": "a4e8b65a-4d0d-479f-9d1e-680b6d6923ef",
   "metadata": {},
   "outputs": [],
   "source": [
    "class TrafficSignCNN(torch.nn.Module):\n",
    "    def __init__(self, num_classes=43):\n",
    "        super().__init__()\n",
    "        self.conv1 = torch.nn.Conv2d(3, 32, kernel_size=3, padding=1)\n",
    "        self.conv2 = torch.nn.Conv2d(32, 64, kernel_size=3, padding=1)\n",
    "        self.conv3 = torch.nn.Conv2d(64, 128, kernel_size=3, padding=1)\n",
    "        self.pool = torch.nn.MaxPool2d(2, 2)\n",
    "        self.dropout = torch.nn.Dropout(0.5)\n",
    "        self.fc1 = torch.nn.Linear(128 * 4 * 4, 512)\n",
    "        self.fc2 = torch.nn.Linear(512, num_classes)\n",
    "\n",
    "    def forward(self, x):\n",
    "        x = self.pool(F.relu(self.conv1(x)))\n",
    "        x = self.pool(F.relu(self.conv2(x)))\n",
    "        x = self.pool(F.relu(self.conv3(x)))\n",
    "        x = x.view(-1, 128 * 4 * 4)\n",
    "        x = self.dropout(F.relu(self.fc1(x)))\n",
    "        return self.fc2(x)"
   ]
  },
  {
   "cell_type": "code",
   "execution_count": 15,
   "id": "6575851f-49cd-453e-9bb8-b95e6504ef96",
   "metadata": {},
   "outputs": [
    {
     "data": {
      "text/plain": [
       "TrafficSignCNN(\n",
       "  (conv1): Conv2d(3, 32, kernel_size=(3, 3), stride=(1, 1), padding=(1, 1))\n",
       "  (conv2): Conv2d(32, 64, kernel_size=(3, 3), stride=(1, 1), padding=(1, 1))\n",
       "  (conv3): Conv2d(64, 128, kernel_size=(3, 3), stride=(1, 1), padding=(1, 1))\n",
       "  (pool): MaxPool2d(kernel_size=2, stride=2, padding=0, dilation=1, ceil_mode=False)\n",
       "  (dropout): Dropout(p=0.5, inplace=False)\n",
       "  (fc1): Linear(in_features=2048, out_features=512, bias=True)\n",
       "  (fc2): Linear(in_features=512, out_features=43, bias=True)\n",
       ")"
      ]
     },
     "execution_count": 15,
     "metadata": {},
     "output_type": "execute_result"
    }
   ],
   "source": [
    "model = TrafficSignCNN().to(DEVICE)\n",
    "model.load_state_dict(torch.load(\"traffic_sign_cnn.pth\", map_location=DEVICE))\n",
    "model.eval()"
   ]
  },
  {
   "cell_type": "code",
   "execution_count": 20,
   "id": "9228daf5-e0d7-4ddb-ae03-777d2ec7fb8e",
   "metadata": {},
   "outputs": [],
   "source": [
    "image_path = \"data/test/00009.png\"  # Example: Stop sign"
   ]
  },
  {
   "cell_type": "code",
   "execution_count": 21,
   "id": "986860e9-484d-47b8-aafc-457b5934d6e7",
   "metadata": {},
   "outputs": [],
   "source": [
    "transform = transforms.Compose([\n",
    "    transforms.Resize((32, 32)),\n",
    "    transforms.ToTensor(),\n",
    "    transforms.Normalize([0.5]*3, [0.5]*3)\n",
    "])\n",
    "\n",
    "image = Image.open(image_path).convert(\"RGB\")\n",
    "image_tensor = transform(image).to(DEVICE)"
   ]
  },
  {
   "cell_type": "code",
   "execution_count": 22,
   "id": "aee556ae-d440-497d-ae56-4d7ecc0fcb99",
   "metadata": {},
   "outputs": [],
   "source": [
    "def generate_gradcam(model, image_tensor, class_idx, target_layer='conv3'):\n",
    "    activations, gradients = [], []\n",
    "\n",
    "    def forward_hook(module, input, output):\n",
    "        activations.append(output)\n",
    "\n",
    "    def backward_hook(module, grad_input, grad_output):\n",
    "        gradients.append(grad_output[0])\n",
    "\n",
    "    # Register hooks\n",
    "    layer = getattr(model, target_layer)\n",
    "    handle_f = layer.register_forward_hook(forward_hook)\n",
    "    handle_b = layer.register_backward_hook(backward_hook)\n",
    "\n",
    "    image_tensor = image_tensor.unsqueeze(0)  # Add batch dim\n",
    "    output = model(image_tensor)\n",
    "    model.zero_grad()\n",
    "    output[0, class_idx].backward()\n",
    "\n",
    "    handle_f.remove()\n",
    "    handle_b.remove()\n",
    "\n",
    "    act = activations[0].squeeze().cpu().detach().numpy()\n",
    "    grad = gradients[0].squeeze().cpu().detach().numpy()\n",
    "    weights = np.mean(grad, axis=(1, 2))\n",
    "\n",
    "    cam = np.zeros(act.shape[1:], dtype=np.float32)\n",
    "    for i, w in enumerate(weights):\n",
    "        cam += w * act[i]\n",
    "    cam = np.maximum(cam, 0)\n",
    "    cam = cv2.resize(cam, (32, 32))\n",
    "    cam = (cam - cam.min()) / (cam.max() - cam.min() + 1e-8)\n",
    "\n",
    "    return cam"
   ]
  },
  {
   "cell_type": "code",
   "execution_count": 23,
   "id": "8c1f68d8-e830-4cbe-8f7e-68a088807daf",
   "metadata": {},
   "outputs": [
    {
     "data": {
      "image/png": "[encoded data removed]",
      "text/plain": [
       "<Figure size 800x400 with 2 Axes>"
      ]
     },
     "metadata": {},
     "output_type": "display_data"
    }
   ],
   "source": [
    "# Get prediction\n",
    "with torch.no_grad():\n",
    "    output = model(image_tensor.unsqueeze(0))\n",
    "    pred_class = output.argmax(dim=1).item()\n",
    "\n",
    "# Generate Grad-CAM\n",
    "cam = generate_gradcam(model, image_tensor, class_idx=pred_class)\n",
    "\n",
    "# Unnormalize image\n",
    "image_np = image_tensor.permute(1, 2, 0).cpu().numpy()\n",
    "image_np = (image_np * 0.5 + 0.5).clip(0, 1)\n",
    "\n",
    "# Overlay heatmap\n",
    "heatmap = cv2.applyColorMap(np.uint8(255 * cam), cv2.COLORMAP_JET)\n",
    "overlay = cv2.addWeighted(np.uint8(image_np * 255), 0.6, heatmap, 0.4, 0)\n",
    "\n",
    "# Plot\n",
    "plt.figure(figsize=(8, 4))\n",
    "plt.subplot(1, 2, 1)\n",
    "plt.imshow(image_np)\n",
    "plt.title(\"Original Image\")\n",
    "plt.axis(\"off\")\n",
    "\n",
    "plt.subplot(1, 2, 2)\n",
    "plt.imshow(overlay[:, :, ::-1])  # BGR to RGB\n",
    "pred_label = CLASS_ID_TO_NAME.get(pred_class, f\"Class {pred_class}\")\n",
    "plt.title(f\"Grad-CAM (Pred: {pred_label})\")\n",
    "plt.axis(\"off\")\n",
    "\n",
    "plt.tight_layout()\n",
    "plt.show()"
   ]
  }
 ],
 "metadata": {
  "kernelspec": {
   "display_name": "Python 3 (ipykernel)",
   "language": "python",
   "name": "python3"
  },
  "language_info": {
   "codemirror_mode": {
    "name": "ipython",
    "version": 3
   },
   "file_extension": ".py",
   "mimetype": "text/x-python",
   "name": "python",
   "nbconvert_exporter": "python",
   "pygments_lexer": "ipython3",
   "version": "3.12.4"
  }
 },
 "nbformat": 4,
 "nbformat_minor": 5
}
