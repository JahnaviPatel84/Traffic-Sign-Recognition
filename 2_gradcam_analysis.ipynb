{
 "cells": [
  {
   "cell_type": "code",
   "execution_count": 18,
   "id": "de83eb2c-a72f-4614-96d6-d048122ded28",
   "metadata": {},
   "outputs": [],
   "source": [
    "import torch\n",
    "import torch.nn.functional as F\n",
    "from torchvision import transforms\n",
    "from PIL import Image\n",
    "import numpy as np\n",
    "import matplotlib.pyplot as plt\n",
    "import cv2\n",
    "import os"
   ]
  },
  {
   "cell_type": "code",
   "execution_count": 20,
   "id": "081091cb-ee21-4b78-84dc-257b3984f6d8",
   "metadata": {},
   "outputs": [
    {
     "data": {
      "text/plain": [
       "TrafficSignCNN(\n",
       "  (conv1): Conv2d(3, 32, kernel_size=(3, 3), stride=(1, 1), padding=(1, 1))\n",
       "  (conv2): Conv2d(32, 64, kernel_size=(3, 3), stride=(1, 1), padding=(1, 1))\n",
       "  (conv3): Conv2d(64, 128, kernel_size=(3, 3), stride=(1, 1), padding=(1, 1))\n",
       "  (pool): MaxPool2d(kernel_size=2, stride=2, padding=0, dilation=1, ceil_mode=False)\n",
       "  (dropout): Dropout(p=0.5, inplace=False)\n",
       "  (fc1): Linear(in_features=2048, out_features=512, bias=True)\n",
       "  (fc2): Linear(in_features=512, out_features=43, bias=True)\n",
       ")"
      ]
     },
     "execution_count": 20,
     "metadata": {},
     "output_type": "execute_result"
    }
   ],
   "source": [
    "class TrafficSignCNN(torch.nn.Module):\n",
    "    def __init__(self, num_classes=43):\n",
    "        super().__init__()\n",
    "        self.conv1 = torch.nn.Conv2d(3, 32, kernel_size=3, padding=1)\n",
    "        self.conv2 = torch.nn.Conv2d(32, 64, kernel_size=3, padding=1)\n",
    "        self.conv3 = torch.nn.Conv2d(64, 128, kernel_size=3, padding=1)\n",
    "        self.pool = torch.nn.MaxPool2d(2, 2)\n",
    "        self.dropout = torch.nn.Dropout(0.5)\n",
    "        self.fc1 = torch.nn.Linear(128 * 4 * 4, 512)\n",
    "        self.fc2 = torch.nn.Linear(512, num_classes)\n",
    "\n",
    "    def forward(self, x):\n",
    "        x = self.pool(F.relu(self.conv1(x)))\n",
    "        x = self.pool(F.relu(self.conv2(x)))\n",
    "        x = self.pool(F.relu(self.conv3(x)))\n",
    "        x = x.view(-1, 128 * 4 * 4)\n",
    "        x = self.dropout(F.relu(self.fc1(x)))\n",
    "        x = self.fc2(x)\n",
    "        return x\n",
    "\n",
    "# Load model\n",
    "model = TrafficSignCNN()\n",
    "model.load_state_dict(torch.load(\"models/traffic_sign_cnn.pth\", map_location=\"cpu\"))\n",
    "model.eval()"
   ]
  },
  {
   "cell_type": "code",
   "execution_count": 21,
   "id": "a4e8b65a-4d0d-479f-9d1e-680b6d6923ef",
   "metadata": {},
   "outputs": [],
   "source": [
    "def generate_gradcam(model, image_tensor, class_idx, target_layer='conv3'):\n",
    "    activations, gradients = [], []\n",
    "\n",
    "    def forward_hook(module, input, output):\n",
    "        activations.append(output)\n",
    "\n",
    "    def backward_hook(module, grad_input, grad_output):\n",
    "        gradients.append(grad_output[0])\n",
    "\n",
    "    layer = getattr(model, target_layer)\n",
    "    handle_f = layer.register_forward_hook(forward_hook)\n",
    "    handle_b = layer.register_backward_hook(backward_hook)\n",
    "\n",
    "    image_tensor = image_tensor.unsqueeze(0)\n",
    "    output = model(image_tensor)\n",
    "    model.zero_grad()\n",
    "    output[0, class_idx].backward()\n",
    "\n",
    "    handle_f.remove()\n",
    "    handle_b.remove()\n",
    "\n",
    "    act = activations[0].squeeze().detach().numpy()\n",
    "    grad = gradients[0].squeeze().detach().numpy()\n",
    "\n",
    "    weights = np.mean(grad, axis=(1, 2))\n",
    "    cam = np.zeros(act.shape[1:], dtype=np.float32)\n",
    "\n",
    "    for i, w in enumerate(weights):\n",
    "        cam += w * act[i]\n",
    "\n",
    "    cam = np.maximum(cam, 0)\n",
    "    cam = cv2.resize(cam, (32, 32))\n",
    "    cam = (cam - cam.min()) / (cam.max() - cam.min() + 1e-8)\n",
    "    return cam"
   ]
  },
  {
   "cell_type": "code",
   "execution_count": 14,
   "id": "6575851f-49cd-453e-9bb8-b95e6504ef96",
   "metadata": {},
   "outputs": [],
   "source": [
    "def generate_gradcam(model, image_tensor, class_idx, target_layer='conv3'):\n",
    "    activations, gradients = [], []\n",
    "\n",
    "    def forward_hook(module, input, output):\n",
    "        activations.append(output)\n",
    "\n",
    "    def backward_hook(module, grad_input, grad_output):\n",
    "        gradients.append(grad_output[0])\n",
    "\n",
    "    layer = getattr(model, target_layer)\n",
    "    handle_f = layer.register_forward_hook(forward_hook)\n",
    "    handle_b = layer.register_backward_hook(backward_hook)\n",
    "\n",
    "    image_tensor = image_tensor.unsqueeze(0).to(DEVICE)\n",
    "    output = model(image_tensor)\n",
    "    model.zero_grad()\n",
    "    output[0, class_idx].backward()\n",
    "\n",
    "    handle_f.remove()\n",
    "    handle_b.remove()\n",
    "\n",
    "    act = activations[0].squeeze().cpu().detach().numpy()\n",
    "    grad = gradients[0].squeeze().cpu().detach().numpy()\n",
    "    weights = np.mean(grad, axis=(1, 2))\n",
    "\n",
    "    cam = np.zeros(act.shape[1:], dtype=np.float32)\n",
    "    for i, w in enumerate(weights):\n",
    "        cam += w * act[i]\n",
    "    cam = np.maximum(cam, 0)\n",
    "    cam = cv2.resize(cam, (32, 32))\n",
    "    cam = (cam - cam.min()) / (cam.max() - cam.min() + 1e-8)\n",
    "\n",
    "    return cam"
   ]
  },
  {
   "cell_type": "code",
   "execution_count": 22,
   "id": "9228daf5-e0d7-4ddb-ae03-777d2ec7fb8e",
   "metadata": {},
   "outputs": [],
   "source": [
    "# Choose a sample image\n",
    "image_path = \"data/train/14/00014_00000_00029.png\"  # Example STOP sign\n",
    "\n",
    "# Preprocess\n",
    "transform = transforms.Compose([\n",
    "    transforms.Resize((32, 32)),\n",
    "    transforms.ToTensor(),\n",
    "    transforms.Normalize([0.5]*3, [0.5]*3)\n",
    "])\n",
    "\n",
    "image = Image.open(image_path).convert(\"RGB\")\n",
    "image_tensor = transform(image)\n",
    "\n",
    "# True label (manually or via CSV)\n",
    "true_label = 14\n"
   ]
  },
  {
   "cell_type": "code",
   "execution_count": 25,
   "id": "986860e9-484d-47b8-aafc-457b5934d6e7",
   "metadata": {},
   "outputs": [
    {
     "data": {
      "image/png": "[encoded data removed]",
      "text/plain": [
       "<Figure size 1000x400 with 2 Axes>"
      ]
     },
     "metadata": {},
     "output_type": "display_data"
    }
   ],
   "source": [
    "# Generate Grad-CAM\n",
    "cam = generate_gradcam(model, image_tensor, class_idx=true_label)\n",
    "\n",
    "# Unnormalize image\n",
    "image_np = image_tensor.permute(1, 2, 0).numpy()\n",
    "image_np = (image_np * 0.5 + 0.5).clip(0, 1)\n",
    "\n",
    "# Overlay heatmap\n",
    "heatmap = cv2.applyColorMap(np.uint8(255 * cam), cv2.COLORMAP_JET)\n",
    "overlay = cv2.addWeighted(np.uint8(image_np * 255), 0.6, heatmap, 0.4, 0)\n",
    "\n",
    "# Plot\n",
    "plt.figure(figsize=(10, 4))\n",
    "\n",
    "plt.subplot(1, 2, 1)\n",
    "plt.imshow(image_np)\n",
    "plt.title(\"Original\")\n",
    "plt.axis(\"off\")\n",
    "\n",
    "plt.subplot(1, 2, 2)\n",
    "plt.imshow(overlay[:, :, ::-1])  # BGR to RGB\n",
    "plt.title(\"Grad-CAM\")\n",
    "plt.axis(\"off\")\n",
    "\n",
    "# Save\n",
    "os.makedirs(\"outputs\", exist_ok=True)\n",
    "plt.tight_layout()\n",
    "plt.savefig(\"outputs/gradcam_sample_stop.png\", dpi=200)\n",
    "plt.show()"
   ]
  }
 ],
 "metadata": {
  "kernelspec": {
   "display_name": "Python 3 (ipykernel)",
   "language": "python",
   "name": "python3"
  },
  "language_info": {
   "codemirror_mode": {
    "name": "ipython",
    "version": 3
   },
   "file_extension": ".py",
   "mimetype": "text/x-python",
   "name": "python",
   "nbconvert_exporter": "python",
   "pygments_lexer": "ipython3",
   "version": "3.12.4"
  }
 },
 "nbformat": 4,
 "nbformat_minor": 5
}
